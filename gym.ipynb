{
  "nbformat": 4,
  "nbformat_minor": 0,
  "metadata": {
    "colab": {
      "name": "gym.ipynb",
      "version": "0.3.2",
      "provenance": [],
      "collapsed_sections": []
    },
    "kernelspec": {
      "name": "python3",
      "display_name": "Python 3"
    },
    "accelerator": "GPU"
  },
  "cells": [
    {
      "metadata": {
        "id": "J0fAsYn51ojY",
        "colab_type": "code",
        "outputId": "2601fcbd-56d1-4e6c-d64b-ada007b0f3df",
        "colab": {
          "base_uri": "https://localhost:8080/",
          "height": 224
        }
      },
      "cell_type": "code",
      "source": [
        "!pip install gym"
      ],
      "execution_count": 0,
      "outputs": [
        {
          "output_type": "stream",
          "text": [
            "Requirement already satisfied: gym in /usr/local/lib/python3.6/dist-packages (0.10.9)\n",
            "Requirement already satisfied: scipy in /usr/local/lib/python3.6/dist-packages (from gym) (1.1.0)\n",
            "Requirement already satisfied: numpy>=1.10.4 in /usr/local/lib/python3.6/dist-packages (from gym) (1.14.6)\n",
            "Requirement already satisfied: requests>=2.0 in /usr/local/lib/python3.6/dist-packages (from gym) (2.18.4)\n",
            "Requirement already satisfied: six in /usr/local/lib/python3.6/dist-packages (from gym) (1.11.0)\n",
            "Requirement already satisfied: pyglet>=1.2.0 in /usr/local/lib/python3.6/dist-packages (from gym) (1.3.2)\n",
            "Requirement already satisfied: chardet<3.1.0,>=3.0.2 in /usr/local/lib/python3.6/dist-packages (from requests>=2.0->gym) (3.0.4)\n",
            "Requirement already satisfied: urllib3<1.23,>=1.21.1 in /usr/local/lib/python3.6/dist-packages (from requests>=2.0->gym) (1.22)\n",
            "Requirement already satisfied: idna<2.7,>=2.5 in /usr/local/lib/python3.6/dist-packages (from requests>=2.0->gym) (2.6)\n",
            "Requirement already satisfied: certifi>=2017.4.17 in /usr/local/lib/python3.6/dist-packages (from requests>=2.0->gym) (2018.11.29)\n",
            "Requirement already satisfied: future in /usr/local/lib/python3.6/dist-packages (from pyglet>=1.2.0->gym) (0.16.0)\n"
          ],
          "name": "stdout"
        }
      ]
    },
    {
      "metadata": {
        "id": "Z5R79S2yur3D",
        "colab_type": "text"
      },
      "cell_type": "markdown",
      "source": [
        "Reinforcement learning is learning how to map situations to actions so as to maximize a numerical reward signal. Gym is a toolkit for developing and comparing reinforcement learning algorithms."
      ]
    },
    {
      "metadata": {
        "id": "OzTiKu-GXVJI",
        "colab_type": "code",
        "colab": {}
      },
      "cell_type": "code",
      "source": [
        "import gym\n",
        "import random\n",
        "import numpy as np"
      ],
      "execution_count": 0,
      "outputs": []
    },
    {
      "metadata": {
        "id": "piRzAai84ZLO",
        "colab_type": "text"
      },
      "cell_type": "markdown",
      "source": [
        "Play one game of blackjack with random actions"
      ]
    },
    {
      "metadata": {
        "id": "QzyiPxpDXn5V",
        "colab_type": "code",
        "outputId": "53079c64-5687-4d49-8320-b6921d7c7dfe",
        "colab": {
          "base_uri": "https://localhost:8080/",
          "height": 71
        }
      },
      "cell_type": "code",
      "source": [
        "env = gym.make(\"Blackjack-v0\")\n",
        "state = env.reset()\n",
        "memory = []\n",
        "for _ in range(10):\n",
        "  action = env.action_space.sample() \n",
        "  state, reward, done, info = env.step(action)\n",
        "  memory.append((observation,action,reward,done))\n",
        "  if done:\n",
        "    break"
      ],
      "execution_count": 0,
      "outputs": [
        {
          "output_type": "stream",
          "text": [
            "/usr/local/lib/python3.6/dist-packages/gym/envs/registration.py:14: PkgResourcesDeprecationWarning: Parameters to load are deprecated.  Call .resolve and .require separately.\n",
            "  result = entry_point.load(False)\n"
          ],
          "name": "stderr"
        }
      ]
    },
    {
      "metadata": {
        "id": "KTIjdNP03_vO",
        "colab_type": "text"
      },
      "cell_type": "markdown",
      "source": [
        "Calling env.step gives us an observation, reward, a boolean indicating whether the episode has finished"
      ]
    },
    {
      "metadata": {
        "id": "bUM5dqyPyd7T",
        "colab_type": "code",
        "outputId": "f41f0473-edad-4593-dd3e-48f5efe6221d",
        "colab": {
          "base_uri": "https://localhost:8080/",
          "height": 34
        }
      },
      "cell_type": "code",
      "source": [
        "memory"
      ],
      "execution_count": 0,
      "outputs": [
        {
          "output_type": "execute_result",
          "data": {
            "text/plain": [
              "[((20, 6, False), 0, 1.0, True)]"
            ]
          },
          "metadata": {
            "tags": []
          },
          "execution_count": 20
        }
      ]
    },
    {
      "metadata": {
        "id": "bxMQMq9fvzHa",
        "colab_type": "text"
      },
      "cell_type": "markdown",
      "source": [
        "**States**"
      ]
    },
    {
      "metadata": {
        "id": "HOrrlflt6PwG",
        "colab_type": "text"
      },
      "cell_type": "markdown",
      "source": [
        "\n",
        " The observation is a 3-tuple of: \n",
        "the players current sum,\n",
        "the dealer's one showing card (1-10 where 1 is ace),\n",
        "and whether or not the player holds a usable ace (0 or 1).\n"
      ]
    },
    {
      "metadata": {
        "id": "JawetveuwPVz",
        "colab_type": "text"
      },
      "cell_type": "markdown",
      "source": [
        "**Actions**"
      ]
    },
    {
      "metadata": {
        "id": "hwpeOI95wObF",
        "colab_type": "code",
        "outputId": "c9dc6179-f7bf-4aaa-c419-3cada65a7450",
        "colab": {
          "base_uri": "https://localhost:8080/",
          "height": 34
        }
      },
      "cell_type": "code",
      "source": [
        "env.action_space\n",
        "# Stay = 0\n",
        "# Hit = 1\n"
      ],
      "execution_count": 0,
      "outputs": [
        {
          "output_type": "execute_result",
          "data": {
            "text/plain": [
              "Discrete(2)"
            ]
          },
          "metadata": {
            "tags": []
          },
          "execution_count": 15
        }
      ]
    },
    {
      "metadata": {
        "id": "0Q2veHzdDbP-",
        "colab_type": "text"
      },
      "cell_type": "markdown",
      "source": [
        "**Rewards**"
      ]
    },
    {
      "metadata": {
        "id": "0lrz56IFDcsg",
        "colab_type": "code",
        "outputId": "6e528337-900d-467e-c1e4-5da06e49068d",
        "colab": {
          "base_uri": "https://localhost:8080/",
          "height": 34
        }
      },
      "cell_type": "code",
      "source": [
        "# Win = 1\n",
        "# Loss = -1\n",
        "\n",
        "def compute_avg_reward(memory):\n",
        "  rewards = [r[2] for r in memory]\n",
        "  return sum(rewards)/len(memory)\n",
        "\n",
        "compute_avg_reward(memory)"
      ],
      "execution_count": 0,
      "outputs": [
        {
          "output_type": "execute_result",
          "data": {
            "text/plain": [
              "-0.9900990099009901"
            ]
          },
          "metadata": {
            "tags": []
          },
          "execution_count": 40
        }
      ]
    },
    {
      "metadata": {
        "id": "o-xZL5QUIvtR",
        "colab_type": "text"
      },
      "cell_type": "markdown",
      "source": [
        "Now lets play 100 games of random blackjack. We'll keep track of our score."
      ]
    },
    {
      "metadata": {
        "id": "07uJmGPa_HsU",
        "colab_type": "code",
        "outputId": "e92ec1c7-1d5b-4541-997d-d40616bc66fd",
        "colab": {
          "base_uri": "https://localhost:8080/",
          "height": 71
        }
      },
      "cell_type": "code",
      "source": [
        "env = gym.make(\"Blackjack-v0\")\n",
        "state = env.reset()\n",
        "memory = []\n",
        "episodes = 100\n",
        "for e in range(episodes):\n",
        "  for _ in range(10):\n",
        "    action = env.action_space.sample() \n",
        "    state, reward, done, info = env.step(action)\n",
        "    memory.append((state,action,reward,done))\n",
        "    if done:\n",
        "      break"
      ],
      "execution_count": 0,
      "outputs": [
        {
          "output_type": "stream",
          "text": [
            "/usr/local/lib/python3.6/dist-packages/gym/envs/registration.py:14: PkgResourcesDeprecationWarning: Parameters to load are deprecated.  Call .resolve and .require separately.\n",
            "  result = entry_point.load(False)\n"
          ],
          "name": "stderr"
        }
      ]
    },
    {
      "metadata": {
        "id": "4-fnW8bl_qPN",
        "colab_type": "code",
        "outputId": "7cbdf11b-8206-48a7-9bb1-109b8839acec",
        "colab": {
          "base_uri": "https://localhost:8080/",
          "height": 34
        }
      },
      "cell_type": "code",
      "source": [
        "rewards = [r[2] for r in memory]\n",
        "sum(rewards)"
      ],
      "execution_count": 0,
      "outputs": [
        {
          "output_type": "execute_result",
          "data": {
            "text/plain": [
              "-100.0"
            ]
          },
          "metadata": {
            "tags": []
          },
          "execution_count": 30
        }
      ]
    },
    {
      "metadata": {
        "id": "0AHXmN5EATAn",
        "colab_type": "text"
      },
      "cell_type": "markdown",
      "source": [
        "Let's try building a simple agent."
      ]
    },
    {
      "metadata": {
        "id": "arivCokjARY5",
        "colab_type": "code",
        "colab": {}
      },
      "cell_type": "code",
      "source": [
        "class RuleBasedAgent():\n",
        "  \n",
        "  def __init__(self,epsilon):\n",
        "    self.epsilon = epsilon\n",
        "  \n",
        "  def act(self,state):\n",
        "    if state[0]>=17:\n",
        "      return 0\n",
        "    else:\n",
        "      return 1"
      ],
      "execution_count": 0,
      "outputs": []
    },
    {
      "metadata": {
        "id": "YhoJjAWyCIL1",
        "colab_type": "code",
        "outputId": "2da39d77-867c-4c49-f49f-878ca51ac62e",
        "colab": {
          "base_uri": "https://localhost:8080/",
          "height": 71
        }
      },
      "cell_type": "code",
      "source": [
        "env = gym.make(\"Blackjack-v0\")\n",
        "\n",
        "memory = []\n",
        "agent = RuleBasedAgent(.1)\n",
        "episodes = 100\n",
        "for e in range(episodes):\n",
        "  state = env.reset()\n",
        "  for _ in range(10):\n",
        "    action = agent.act(observation) \n",
        "    state, reward, done, info = env.step(action)\n",
        "    memory.append((state,action,reward,done))\n",
        "    if done:\n",
        "      break"
      ],
      "execution_count": 0,
      "outputs": [
        {
          "output_type": "stream",
          "text": [
            "/usr/local/lib/python3.6/dist-packages/gym/envs/registration.py:14: PkgResourcesDeprecationWarning: Parameters to load are deprecated.  Call .resolve and .require separately.\n",
            "  result = entry_point.load(False)\n"
          ],
          "name": "stderr"
        }
      ]
    },
    {
      "metadata": {
        "id": "xBYgCIFYDU3U",
        "colab_type": "code",
        "outputId": "87b4144a-0255-4b83-b060-88e3e9c15095",
        "colab": {
          "base_uri": "https://localhost:8080/",
          "height": 34
        }
      },
      "cell_type": "code",
      "source": [
        "compute_avg_reward(memory)"
      ],
      "execution_count": 0,
      "outputs": [
        {
          "output_type": "execute_result",
          "data": {
            "text/plain": [
              "-0.25"
            ]
          },
          "metadata": {
            "tags": []
          },
          "execution_count": 63
        }
      ]
    },
    {
      "metadata": {
        "id": "574Wk0g88dWT",
        "colab_type": "text"
      },
      "cell_type": "markdown",
      "source": [
        "Other environments include Atari Video games, a physics simulator called MuJuCo, and a robot arm simulator. They also provide tools to create your own environment provide a common API. We have avoided the question of reinforcement learning algorithms themselves but if you are interested in learning more OpenAI provides a series of tutorials called spinning up: https://spinningup.openai.com/en/latest/\n",
        "\n",
        "Reinforcement Learning: An Introduction by Richard Sutton and William Barto coined the term reinforcement learning. They recently released a second edition versions of which are available for free online."
      ]
    }
  ]
}