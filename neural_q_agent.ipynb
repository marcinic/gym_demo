{
  "nbformat": 4,
  "nbformat_minor": 0,
  "metadata": {
    "colab": {
      "name": "neural_q_agent.ipynb",
      "version": "0.3.2",
      "provenance": [],
      "collapsed_sections": [],
      "include_colab_link": true
    },
    "kernelspec": {
      "name": "python3",
      "display_name": "Python 3"
    },
    "accelerator": "GPU"
  },
  "cells": [
    {
      "cell_type": "markdown",
      "metadata": {
        "id": "view-in-github",
        "colab_type": "text"
      },
      "source": [
        "<a href=\"https://colab.research.google.com/github/marcinic/gym_demo/blob/master/neural_q_agent.ipynb\" target=\"_parent\"><img src=\"https://colab.research.google.com/assets/colab-badge.svg\" alt=\"Open In Colab\"/></a>"
      ]
    },
    {
      "metadata": {
        "id": "J0fAsYn51ojY",
        "colab_type": "code",
        "outputId": "9721cdb3-2341-461c-b8ce-066d8fa015b8",
        "colab": {
          "base_uri": "https://localhost:8080/",
          "height": 224
        }
      },
      "cell_type": "code",
      "source": [
        "!pip install gym"
      ],
      "execution_count": 1,
      "outputs": [
        {
          "output_type": "stream",
          "text": [
            "Requirement already satisfied: gym in /usr/local/lib/python3.6/dist-packages (0.10.9)\n",
            "Requirement already satisfied: scipy in /usr/local/lib/python3.6/dist-packages (from gym) (1.1.0)\n",
            "Requirement already satisfied: numpy>=1.10.4 in /usr/local/lib/python3.6/dist-packages (from gym) (1.14.6)\n",
            "Requirement already satisfied: requests>=2.0 in /usr/local/lib/python3.6/dist-packages (from gym) (2.18.4)\n",
            "Requirement already satisfied: six in /usr/local/lib/python3.6/dist-packages (from gym) (1.11.0)\n",
            "Requirement already satisfied: pyglet>=1.2.0 in /usr/local/lib/python3.6/dist-packages (from gym) (1.3.2)\n",
            "Requirement already satisfied: urllib3<1.23,>=1.21.1 in /usr/local/lib/python3.6/dist-packages (from requests>=2.0->gym) (1.22)\n",
            "Requirement already satisfied: certifi>=2017.4.17 in /usr/local/lib/python3.6/dist-packages (from requests>=2.0->gym) (2018.11.29)\n",
            "Requirement already satisfied: idna<2.7,>=2.5 in /usr/local/lib/python3.6/dist-packages (from requests>=2.0->gym) (2.6)\n",
            "Requirement already satisfied: chardet<3.1.0,>=3.0.2 in /usr/local/lib/python3.6/dist-packages (from requests>=2.0->gym) (3.0.4)\n",
            "Requirement already satisfied: future in /usr/local/lib/python3.6/dist-packages (from pyglet>=1.2.0->gym) (0.16.0)\n"
          ],
          "name": "stdout"
        }
      ]
    },
    {
      "metadata": {
        "id": "Z5R79S2yur3D",
        "colab_type": "text"
      },
      "cell_type": "markdown",
      "source": [
        "Reinforcement learning is learning how to map situations to actions so as to maximize a numerical reward signal. Gym is a toolkit for developing and comparing reinforcement learning algorithms."
      ]
    },
    {
      "metadata": {
        "id": "OzTiKu-GXVJI",
        "colab_type": "code",
        "colab": {}
      },
      "cell_type": "code",
      "source": [
        "import gym\n",
        "import random\n",
        "import numpy as np"
      ],
      "execution_count": 0,
      "outputs": []
    },
    {
      "metadata": {
        "id": "piRzAai84ZLO",
        "colab_type": "text"
      },
      "cell_type": "markdown",
      "source": [
        "Play one game of blackjack with random actions"
      ]
    },
    {
      "metadata": {
        "id": "QzyiPxpDXn5V",
        "colab_type": "code",
        "outputId": "882df481-7b9c-46f9-ced1-ce16a5d7a12b",
        "colab": {
          "base_uri": "https://localhost:8080/",
          "height": 71
        }
      },
      "cell_type": "code",
      "source": [
        "env = gym.make(\"Blackjack-v0\")\n",
        "observation = env.reset()\n",
        "memory = []\n",
        "for _ in range(10):\n",
        "  action = env.action_space.sample() \n",
        "  observation, reward, done, info = env.step(action)\n",
        "  memory.append((observation,action,reward,done))\n",
        "  if done:\n",
        "    break"
      ],
      "execution_count": 3,
      "outputs": [
        {
          "output_type": "stream",
          "text": [
            "/usr/local/lib/python3.6/dist-packages/gym/envs/registration.py:14: PkgResourcesDeprecationWarning: Parameters to load are deprecated.  Call .resolve and .require separately.\n",
            "  result = entry_point.load(False)\n"
          ],
          "name": "stderr"
        }
      ]
    },
    {
      "metadata": {
        "id": "KTIjdNP03_vO",
        "colab_type": "text"
      },
      "cell_type": "markdown",
      "source": [
        "Calling env.step gives us an observation, reward, a boolean indicating whether the episode has finished"
      ]
    },
    {
      "metadata": {
        "id": "bUM5dqyPyd7T",
        "colab_type": "code",
        "outputId": "db0584b7-9be8-429c-b4bf-2ce44d3dd51c",
        "colab": {
          "base_uri": "https://localhost:8080/",
          "height": 34
        }
      },
      "cell_type": "code",
      "source": [
        "memory"
      ],
      "execution_count": 4,
      "outputs": [
        {
          "output_type": "execute_result",
          "data": {
            "text/plain": [
              "[((21, 10, True), 0, 0.0, True)]"
            ]
          },
          "metadata": {
            "tags": []
          },
          "execution_count": 4
        }
      ]
    },
    {
      "metadata": {
        "id": "bxMQMq9fvzHa",
        "colab_type": "text"
      },
      "cell_type": "markdown",
      "source": [
        "**States**"
      ]
    },
    {
      "metadata": {
        "id": "HOrrlflt6PwG",
        "colab_type": "text"
      },
      "cell_type": "markdown",
      "source": [
        "\n",
        " The observation is a 3-tuple of: \n",
        "the players current sum,\n",
        "the dealer's one showing card (1-10 where 1 is ace),\n",
        "and whether or not the player holds a usable ace (0 or 1).\n"
      ]
    },
    {
      "metadata": {
        "id": "JawetveuwPVz",
        "colab_type": "text"
      },
      "cell_type": "markdown",
      "source": [
        "**Actions**"
      ]
    },
    {
      "metadata": {
        "id": "hwpeOI95wObF",
        "colab_type": "code",
        "outputId": "dbb1b153-9d79-4b2a-9763-97d03af7afc7",
        "colab": {
          "base_uri": "https://localhost:8080/",
          "height": 34
        }
      },
      "cell_type": "code",
      "source": [
        "env.action_space\n",
        "# Stay = 0\n",
        "# Hit = 1\n"
      ],
      "execution_count": 5,
      "outputs": [
        {
          "output_type": "execute_result",
          "data": {
            "text/plain": [
              "Discrete(2)"
            ]
          },
          "metadata": {
            "tags": []
          },
          "execution_count": 5
        }
      ]
    },
    {
      "metadata": {
        "id": "0Q2veHzdDbP-",
        "colab_type": "text"
      },
      "cell_type": "markdown",
      "source": [
        "**Rewards**"
      ]
    },
    {
      "metadata": {
        "id": "0lrz56IFDcsg",
        "colab_type": "code",
        "colab": {}
      },
      "cell_type": "code",
      "source": [
        "# Win = 1\n",
        "# Loss = -1\n",
        "\n",
        "def compute_avg_reward(memory):\n",
        "  rewards = [r[2] for r in memory]\n",
        "  return sum(rewards)/len(memory)\n",
        "\n",
        "#compute_avg_reward(memory)"
      ],
      "execution_count": 0,
      "outputs": []
    },
    {
      "metadata": {
        "id": "o-xZL5QUIvtR",
        "colab_type": "text"
      },
      "cell_type": "markdown",
      "source": [
        "Now lets play 100 games of random blackjack. We'll keep track of our score."
      ]
    },
    {
      "metadata": {
        "id": "07uJmGPa_HsU",
        "colab_type": "code",
        "outputId": "92a83597-a0a3-4588-a273-0542f07a7dcd",
        "colab": {
          "base_uri": "https://localhost:8080/",
          "height": 71
        }
      },
      "cell_type": "code",
      "source": [
        "env = gym.make(\"Blackjack-v0\")\n",
        "observation = env.reset()\n",
        "memory = []\n",
        "episodes = 100\n",
        "for e in range(episodes):\n",
        "  for _ in range(10):\n",
        "    action = env.action_space.sample() \n",
        "    observation, reward, done, info = env.step(action)\n",
        "    memory.append((observation,action,reward,done))\n",
        "    if done:\n",
        "      break"
      ],
      "execution_count": 7,
      "outputs": [
        {
          "output_type": "stream",
          "text": [
            "/usr/local/lib/python3.6/dist-packages/gym/envs/registration.py:14: PkgResourcesDeprecationWarning: Parameters to load are deprecated.  Call .resolve and .require separately.\n",
            "  result = entry_point.load(False)\n"
          ],
          "name": "stderr"
        }
      ]
    },
    {
      "metadata": {
        "id": "4-fnW8bl_qPN",
        "colab_type": "code",
        "outputId": "1d95a31d-bfa4-4ee6-feb0-707d7fbd7340",
        "colab": {
          "base_uri": "https://localhost:8080/",
          "height": 34
        }
      },
      "cell_type": "code",
      "source": [
        "rewards = [r[2] for r in memory]\n",
        "sum(rewards)"
      ],
      "execution_count": 8,
      "outputs": [
        {
          "output_type": "execute_result",
          "data": {
            "text/plain": [
              "-56.0"
            ]
          },
          "metadata": {
            "tags": []
          },
          "execution_count": 8
        }
      ]
    },
    {
      "metadata": {
        "id": "0AHXmN5EATAn",
        "colab_type": "text"
      },
      "cell_type": "markdown",
      "source": [
        "Let's try building a simple agent."
      ]
    },
    {
      "metadata": {
        "id": "arivCokjARY5",
        "colab_type": "code",
        "colab": {}
      },
      "cell_type": "code",
      "source": [
        "class RuleBasedAgent():\n",
        "  \n",
        "  def __init__(self,hit_probability):\n",
        "    self.hit_probability = hit_probability\n",
        "  \n",
        "  def act(self,state):\n",
        "    if state[0]>=17:\n",
        "      return 0\n",
        "    else:\n",
        "      return 1"
      ],
      "execution_count": 0,
      "outputs": []
    },
    {
      "metadata": {
        "id": "YhoJjAWyCIL1",
        "colab_type": "code",
        "outputId": "731c0ac3-79e8-4df7-fc5f-35ca6dd92618",
        "colab": {
          "base_uri": "https://localhost:8080/",
          "height": 71
        }
      },
      "cell_type": "code",
      "source": [
        "env = gym.make(\"Blackjack-v0\")\n",
        "\n",
        "memory = []\n",
        "agent = RuleBasedAgent(.8)\n",
        "episodes = 100\n",
        "for e in range(episodes):\n",
        "  state = env.reset()\n",
        "  for _ in range(10):\n",
        "    action = agent.act(observation) \n",
        "    state, reward, done, info = env.step(action)\n",
        "    memory.append((observation,action,reward,done))\n",
        "    if done:\n",
        "      break"
      ],
      "execution_count": 10,
      "outputs": [
        {
          "output_type": "stream",
          "text": [
            "/usr/local/lib/python3.6/dist-packages/gym/envs/registration.py:14: PkgResourcesDeprecationWarning: Parameters to load are deprecated.  Call .resolve and .require separately.\n",
            "  result = entry_point.load(False)\n"
          ],
          "name": "stderr"
        }
      ]
    },
    {
      "metadata": {
        "id": "xBYgCIFYDU3U",
        "colab_type": "code",
        "outputId": "0dc6a7cf-8084-466a-83e1-ea9209f8dac6",
        "colab": {
          "base_uri": "https://localhost:8080/",
          "height": 34
        }
      },
      "cell_type": "code",
      "source": [
        "compute_avg_reward(memory)"
      ],
      "execution_count": 11,
      "outputs": [
        {
          "output_type": "execute_result",
          "data": {
            "text/plain": [
              "-0.31"
            ]
          },
          "metadata": {
            "tags": []
          },
          "execution_count": 11
        }
      ]
    },
    {
      "metadata": {
        "id": "574Wk0g88dWT",
        "colab_type": "text"
      },
      "cell_type": "markdown",
      "source": [
        "**A reinforcement learning policy**"
      ]
    },
    {
      "metadata": {
        "id": "6fvEHZGH8k_w",
        "colab_type": "text"
      },
      "cell_type": "markdown",
      "source": [
        "One of the things that sets reinforcement learning apart from machine learning is that the agent explores its environment to discover the optimal policy. A policy specifies what action to take at every state."
      ]
    },
    {
      "metadata": {
        "id": "faqPy_XnEleX",
        "colab_type": "code",
        "colab": {}
      },
      "cell_type": "code",
      "source": [
        "def epsilon_greedy(agent):\n",
        "  if random.random()>.3:\n",
        "    return env.action_space.sample()\n",
        "  else:\n",
        "    return agent.act()"
      ],
      "execution_count": 0,
      "outputs": []
    },
    {
      "metadata": {
        "id": "sJ4CZFjw-sh3",
        "colab_type": "text"
      },
      "cell_type": "markdown",
      "source": [
        "The task of the agent is estimate the value of taking an action in a given state. This is referred to as the Q-value. The class of algorithms that estimate Q-values are called Q-learning. Q can be estimated a variety of ways including Monte Carlo methods and neural networks. We will show an example with a neural network"
      ]
    },
    {
      "metadata": {
        "id": "csHO7VgK_kqM",
        "colab_type": "code",
        "outputId": "88cae831-b03a-4deb-a914-0203dd90a177",
        "colab": {
          "base_uri": "https://localhost:8080/",
          "height": 34
        }
      },
      "cell_type": "code",
      "source": [
        "import keras\n",
        "from keras.layers import Input, Dense\n",
        "from keras.models import Model\n",
        "\n",
        "class NeuralQAgent():\n",
        "  \n",
        "  def __init__(self,epsilon):\n",
        "    self.epsilon = epsilon\n",
        "    self.memory = []\n",
        "    self.init_model()\n",
        "    \n",
        "  def init_model(self):\n",
        "    inputs = Input(shape=(3,))\n",
        "    x = Dense(5,activation='relu')(inputs)\n",
        "    x1 = Dense(5,activation='relu')(x)\n",
        "    output = Dense(2,activation='softmax')(x1)\n",
        "\n",
        "    model = Model(inputs=inputs,outputs=output)\n",
        "    model.compile(optimizer='adam',loss='mean_squared_error')\n",
        "    self.model = model\n",
        "    \n",
        "  def act(self,state):\n",
        "    state = np.array(state,ndmin=2)\n",
        "\n",
        "    if random.random()>self.epsilon:\n",
        "      return env.action_space.sample()\n",
        "    else:\n",
        "      self.update_Q()\n",
        "      action = np.argmax(self.model.predict(state))\n",
        "      return action\n",
        "\n",
        "    \n",
        "  def update_Q(self):\n",
        "    if len(self.memory)<32:\n",
        "      pass\n",
        "    else:\n",
        "      batch = random.sample(self.memory,32)\n",
        "      states = np.array([np.array(s[0]) for s in batch])\n",
        "      actions = np.array([a[1] for a in batch])\n",
        "      rewards = np.array([a[2] for a in batch])\n",
        "      targets = self.model.predict(states)\n",
        "      for i in range(len(targets)):\n",
        "        targets[i][actions[i]] = rewards[i]\n",
        "      self.model.fit(states,targets,verbose=0)\n",
        "\n",
        "    "
      ],
      "execution_count": 13,
      "outputs": [
        {
          "output_type": "stream",
          "text": [
            "Using TensorFlow backend.\n"
          ],
          "name": "stderr"
        }
      ]
    },
    {
      "metadata": {
        "id": "b9X7tvj4D5rR",
        "colab_type": "code",
        "outputId": "dce80976-ab27-4b36-e7c4-b63e9e7e6f87",
        "colab": {
          "base_uri": "https://localhost:8080/",
          "height": 71
        }
      },
      "cell_type": "code",
      "source": [
        "env = gym.make(\"Blackjack-v0\")\n",
        "\n",
        "\n",
        "agent = NeuralQAgent(.1)\n",
        "\n",
        "episodes = 100000\n",
        "for e in range(episodes):\n",
        "  state = env.reset()\n",
        "  while True:\n",
        "    action = agent.act(state) \n",
        "    state, reward, done, info = env.step(action)\n",
        "    agent.memory.append((state,action,reward,done))\n",
        "    if done:\n",
        "      break\n",
        "      "
      ],
      "execution_count": 14,
      "outputs": [
        {
          "output_type": "stream",
          "text": [
            "/usr/local/lib/python3.6/dist-packages/gym/envs/registration.py:14: PkgResourcesDeprecationWarning: Parameters to load are deprecated.  Call .resolve and .require separately.\n",
            "  result = entry_point.load(False)\n"
          ],
          "name": "stderr"
        }
      ]
    },
    {
      "metadata": {
        "id": "ArKRO-CPYHG4",
        "colab_type": "code",
        "outputId": "df3aa8db-b86b-48ee-b9fa-9b6277383dbc",
        "colab": {
          "base_uri": "https://localhost:8080/",
          "height": 34
        }
      },
      "cell_type": "code",
      "source": [
        "compute_avg_reward(agent.memory)"
      ],
      "execution_count": 15,
      "outputs": [
        {
          "output_type": "execute_result",
          "data": {
            "text/plain": [
              "-0.2702698852506891"
            ]
          },
          "metadata": {
            "tags": []
          },
          "execution_count": 15
        }
      ]
    }
  ]
}